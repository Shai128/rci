{
 "cells": [
  {
   "cell_type": "code",
   "execution_count": 1,
   "id": "122d09c1",
   "metadata": {},
   "outputs": [],
   "source": [
    "import matplotlib as mpl\n",
    "import torch\n",
    "import warnings\n",
    "import matplotlib\n",
    "from sys import platform\n",
    "from display_results_helper import *\n",
    "\n",
    "warnings.filterwarnings(\"ignore\")\n",
    "\n",
    "mpl.rcParams[\"legend.framealpha\"] = 1\n",
    "matplotlib.rc('font', **{'size': 15})\n",
    "\n",
    "%load_ext autoreload\n",
    "%autoreload 2\n",
    "\n",
    "device_name = 'cuda:0' if torch.cuda.is_available() else 'cpu'\n",
    "device = torch.device(device_name)\n"
   ]
  },
  {
   "cell_type": "markdown",
   "id": "32e15d75",
   "metadata": {},
   "source": [
    "## Run all experiments in reproducible_experiments/run_all_experiments.py"
   ]
  },
  {
   "cell_type": "markdown",
   "id": "4b219bbf",
   "metadata": {},
   "source": [
    "# Find best gammas for each method and dataset"
   ]
  },
  {
   "cell_type": "code",
   "execution_count": 3,
   "id": "4271ca55",
   "metadata": {
    "scrolled": true
   },
   "outputs": [],
   "source": [
    "import json\n",
    "best_gammas = find_best_gamma_for_all_datasets([\n",
    "    'tetuan_power', 'energy', 'traffic', 'wind', 'prices'\n",
    "], \n",
    "                                               [\n",
    "                                               'window_x_dim_5_z_dim_3_len_500'\n",
    "                                               ],\n",
    "                                 seeds=1, display_errors=True)\n",
    "hyperparameters_json = json.loads(open(\"hyperparameters.json\", 'r').read())\n",
    "hyperparameters_json['gammas'] = best_gammas\n",
    "with open('hyperparameters.json', 'w') as fp:\n",
    "    json.dump(hyperparameters_json, fp)\n"
   ]
  },
  {
   "cell_type": "markdown",
   "id": "0eb98f7d",
   "metadata": {},
   "source": [
    "# Real data"
   ]
  },
  {
   "cell_type": "code",
   "execution_count": 2,
   "id": "3d58363a",
   "metadata": {
    "scrolled": true
   },
   "outputs": [
    {
     "name": "stdout",
     "output_type": "stream",
     "text": [
      "metric:  average miscoverage streak length\n",
      "metric:  coverage\n",
      "metric:  average length\n",
      "metric:  avg. Δ-coverage\n"
     ]
    }
   ],
   "source": [
    "matplotlib.rc('font', **{'size': 18.5})\n",
    "real_data_plot(seeds=20, desired_coverage_level=90,\n",
    "                  path='real_data_plots',\n",
    "                    calibration_methods=[\n",
    "                        'ACI+CQR', 'RCI+CQR with cal', 'RCI_Stretched_Exp_e_Y',\n",
    "                    ],\n",
    "                    display_errors=False,\n",
    "               train_all_qs=[False],\n",
    "              dataset_names=[ 'tetuan_power', 'wind',  'energy', 'traffic', 'prices'],\n",
    "               calibration_method_to_scale_intervals= 'RCI'\n",
    "              )"
   ]
  },
  {
   "cell_type": "code",
   "execution_count": 12,
   "id": "8078446e",
   "metadata": {
    "scrolled": true
   },
   "outputs": [
    {
     "name": "stdout",
     "output_type": "stream",
     "text": [
      "metric:  average miscoverage streak length\n",
      "metric:  coverage\n",
      "metric:  average length\n",
      "metric:  avg. Δ-coverage\n"
     ]
    }
   ],
   "source": [
    "matplotlib.rc('font', **{'size': 18.5})\n",
    "real_data_plot(seeds=20, desired_coverage_level=90,\n",
    "                  path='real_data_plots',\n",
    "                    calibration_methods=[\n",
    "                        'RCI_Y', 'RCI_Stretched_Y', \n",
    "                        'RCI_Stretched_Exp_e_Y', 'RCI_Stretched_Exp_5_Y',\n",
    "                    ],\n",
    "                    display_errors=False,\n",
    "               train_all_qs=[False],\n",
    "              dataset_names=[ 'tetuan_power', 'wind',  'prices', 'traffic', 'energy'],\n",
    "               calibration_method_to_scale_intervals= None,\n",
    "               save_name='RCI comparison'\n",
    "              )"
   ]
  },
  {
   "cell_type": "markdown",
   "id": "fb5f7c75",
   "metadata": {},
   "source": [
    "# Synthetic data"
   ]
  },
  {
   "cell_type": "code",
   "execution_count": 6,
   "id": "975d97c4",
   "metadata": {
    "scrolled": true
   },
   "outputs": [],
   "source": [
    "from display_results_helper import syn_data_plot\n",
    "\n",
    "matplotlib.rc('font', **{'size': 26})\n",
    "\n",
    "for dateset in ['window_x_dim_5_z_dim_3_len_500']:\n",
    "    syn_data_plot(seeds=20, desired_coverage_level=90,\n",
    "                      full_dataset_name=dateset,\n",
    "                      path='syn_data_plots',\n",
    "                        calibration_methods=[\n",
    "                                    'ACI+CQR',\n",
    "                                    'RCI_Y'\n",
    "                        ],\n",
    "                        display_errors=False,\n",
    "                   train_all_qs=[False])"
   ]
  }
 ],
 "metadata": {
  "kernelspec": {
   "display_name": "Python 3 (ipykernel)",
   "language": "python",
   "name": "python3"
  },
  "language_info": {
   "codemirror_mode": {
    "name": "ipython",
    "version": 3
   },
   "file_extension": ".py",
   "mimetype": "text/x-python",
   "name": "python",
   "nbconvert_exporter": "python",
   "pygments_lexer": "ipython3",
   "version": "3.8.6"
  }
 },
 "nbformat": 4,
 "nbformat_minor": 5
}